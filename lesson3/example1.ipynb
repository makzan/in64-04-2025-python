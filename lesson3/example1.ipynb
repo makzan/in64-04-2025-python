{
 "cells": [
  {
   "cell_type": "code",
   "execution_count": 2,
   "metadata": {},
   "outputs": [],
   "source": [
    "import pandas as pd"
   ]
  },
  {
   "cell_type": "code",
   "execution_count": 17,
   "metadata": {},
   "outputs": [
    {
     "data": {
      "text/plain": [
       "'hello'"
      ]
     },
     "execution_count": 17,
     "metadata": {},
     "output_type": "execute_result"
    }
   ],
   "source": [
    "\"hello\".__str__()"
   ]
  },
  {
   "cell_type": "code",
   "execution_count": null,
   "metadata": {},
   "outputs": [],
   "source": [
    "df = pd.read_xml(\"dst_restaurant_2025-05.xml\")"
   ]
  },
  {
   "cell_type": "code",
   "execution_count": 30,
   "metadata": {},
   "outputs": [
    {
     "data": {
      "text/plain": [
       "21"
      ]
     },
     "execution_count": 30,
     "metadata": {},
     "output_type": "execute_result"
    }
   ],
   "source": [
    "len(df[\"dish_name_zh\"].unique())"
   ]
  },
  {
   "cell_type": "code",
   "execution_count": 31,
   "metadata": {},
   "outputs": [
    {
     "data": {
      "text/plain": [
       "array(['國際', '中國', '意大利', '西班牙', '葡萄牙', '葡萄牙／國際', '泰國', '火鍋', '日本', '緬甸',\n",
       "       None, '澳門／葡萄牙', '美國', '西式', '法國', '中國／國際', '宴會', '澳門／國際', '快餐',\n",
       "       '韓國', '印度'], dtype=object)"
      ]
     },
     "execution_count": 31,
     "metadata": {},
     "output_type": "execute_result"
    }
   ],
   "source": [
    "df[\"dish_name_zh\"].unique()"
   ]
  },
  {
   "cell_type": "code",
   "execution_count": 43,
   "metadata": {},
   "outputs": [
    {
     "data": {
      "text/plain": [
       "dish_name_zh\n",
       "中國        186\n",
       "中國／國際       2\n",
       "印度          1\n",
       "國際        123\n",
       "宴會          6\n",
       "快餐          2\n",
       "意大利         9\n",
       "日本         23\n",
       "法國          6\n",
       "泰國          6\n",
       "澳門／國際       1\n",
       "澳門／葡萄牙      4\n",
       "火鍋          7\n",
       "緬甸          2\n",
       "美國          3\n",
       "葡萄牙        37\n",
       "葡萄牙／國際      3\n",
       "西式          5\n",
       "西班牙         1\n",
       "韓國          1\n",
       "Name: name_cn, dtype: int64"
      ]
     },
     "execution_count": 43,
     "metadata": {},
     "output_type": "execute_result"
    }
   ],
   "source": [
    "df.groupby(\"dish_name_zh\").agg( len  )[\"name_cn\"]"
   ]
  },
  {
   "cell_type": "code",
   "execution_count": null,
   "metadata": {},
   "outputs": [],
   "source": []
  }
 ],
 "metadata": {
  "kernelspec": {
   "display_name": "base",
   "language": "python",
   "name": "python3"
  },
  "language_info": {
   "codemirror_mode": {
    "name": "ipython",
    "version": 3
   },
   "file_extension": ".py",
   "mimetype": "text/x-python",
   "name": "python",
   "nbconvert_exporter": "python",
   "pygments_lexer": "ipython3",
   "version": "3.11.5"
  }
 },
 "nbformat": 4,
 "nbformat_minor": 2
}
